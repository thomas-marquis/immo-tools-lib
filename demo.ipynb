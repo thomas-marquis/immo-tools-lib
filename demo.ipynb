{
 "cells": [
  {
   "cell_type": "code",
   "execution_count": 1,
   "metadata": {},
   "outputs": [],
   "source": [
    "from immo_tools import calculator"
   ]
  },
  {
   "cell_type": "code",
   "execution_count": 2,
   "metadata": {},
   "outputs": [],
   "source": [
    "loan = calculator.build_loan(300, 250000, 1.5, .26, build_summary=True, duration_unit='month')"
   ]
  },
  {
   "cell_type": "markdown",
   "metadata": {},
   "source": [
    "Tableaux d'amoritssement :"
   ]
  },
  {
   "cell_type": "code",
   "execution_count": 4,
   "metadata": {
    "scrolled": true
   },
   "outputs": [
    {
     "data": {
      "text/html": [
       "<div>\n",
       "<style scoped>\n",
       "    .dataframe tbody tr th:only-of-type {\n",
       "        vertical-align: middle;\n",
       "    }\n",
       "\n",
       "    .dataframe tbody tr th {\n",
       "        vertical-align: top;\n",
       "    }\n",
       "\n",
       "    .dataframe thead th {\n",
       "        text-align: right;\n",
       "    }\n",
       "</style>\n",
       "<table border=\"1\" class=\"dataframe\">\n",
       "  <thead>\n",
       "    <tr style=\"text-align: right;\">\n",
       "      <th></th>\n",
       "      <th>annees</th>\n",
       "      <th>mensualites</th>\n",
       "      <th>assur tot</th>\n",
       "      <th>mensu avc assur</th>\n",
       "      <th>refunded_cap</th>\n",
       "      <th>interset</th>\n",
       "      <th>cap</th>\n",
       "    </tr>\n",
       "  </thead>\n",
       "  <tbody>\n",
       "    <tr>\n",
       "      <th>0</th>\n",
       "      <td>1</td>\n",
       "      <td>998.64</td>\n",
       "      <td>54.17</td>\n",
       "      <td>1052.81</td>\n",
       "      <td>688.27</td>\n",
       "      <td>310.37</td>\n",
       "      <td>249311.73</td>\n",
       "    </tr>\n",
       "    <tr>\n",
       "      <th>1</th>\n",
       "      <td>1</td>\n",
       "      <td>998.64</td>\n",
       "      <td>54.17</td>\n",
       "      <td>1052.81</td>\n",
       "      <td>689.12</td>\n",
       "      <td>309.52</td>\n",
       "      <td>248622.61</td>\n",
       "    </tr>\n",
       "    <tr>\n",
       "      <th>2</th>\n",
       "      <td>1</td>\n",
       "      <td>998.64</td>\n",
       "      <td>54.17</td>\n",
       "      <td>1052.81</td>\n",
       "      <td>689.98</td>\n",
       "      <td>308.66</td>\n",
       "      <td>247932.63</td>\n",
       "    </tr>\n",
       "    <tr>\n",
       "      <th>3</th>\n",
       "      <td>1</td>\n",
       "      <td>998.64</td>\n",
       "      <td>54.17</td>\n",
       "      <td>1052.81</td>\n",
       "      <td>690.84</td>\n",
       "      <td>307.81</td>\n",
       "      <td>247241.79</td>\n",
       "    </tr>\n",
       "    <tr>\n",
       "      <th>4</th>\n",
       "      <td>1</td>\n",
       "      <td>998.64</td>\n",
       "      <td>54.17</td>\n",
       "      <td>1052.81</td>\n",
       "      <td>691.69</td>\n",
       "      <td>306.95</td>\n",
       "      <td>246550.10</td>\n",
       "    </tr>\n",
       "  </tbody>\n",
       "</table>\n",
       "</div>"
      ],
      "text/plain": [
       "   annees  mensualites  assur tot  mensu avc assur  refunded_cap  interset  \\\n",
       "0       1       998.64      54.17          1052.81        688.27    310.37   \n",
       "1       1       998.64      54.17          1052.81        689.12    309.52   \n",
       "2       1       998.64      54.17          1052.81        689.98    308.66   \n",
       "3       1       998.64      54.17          1052.81        690.84    307.81   \n",
       "4       1       998.64      54.17          1052.81        691.69    306.95   \n",
       "\n",
       "         cap  \n",
       "0  249311.73  \n",
       "1  248622.61  \n",
       "2  247932.63  \n",
       "3  247241.79  \n",
       "4  246550.10  "
      ]
     },
     "execution_count": 4,
     "metadata": {},
     "output_type": "execute_result"
    }
   ],
   "source": [
    "loan.summary.head().round(2)"
   ]
  },
  {
   "cell_type": "markdown",
   "metadata": {},
   "source": [
    "montant total des intérêts payés :"
   ]
  },
  {
   "cell_type": "code",
   "execution_count": 5,
   "metadata": {},
   "outputs": [
    {
     "data": {
      "text/plain": [
       "49592.43"
      ]
     },
     "execution_count": 5,
     "metadata": {},
     "output_type": "execute_result"
    }
   ],
   "source": [
    "loan.get_interests()"
   ]
  },
  {
   "cell_type": "markdown",
   "metadata": {},
   "source": [
    "mensualités sans assurance :"
   ]
  },
  {
   "cell_type": "code",
   "execution_count": 6,
   "metadata": {},
   "outputs": [
    {
     "data": {
      "text/plain": [
       "998.6414196058942"
      ]
     },
     "execution_count": 6,
     "metadata": {},
     "output_type": "execute_result"
    }
   ],
   "source": [
    "loan.get_monthly()"
   ]
  },
  {
   "cell_type": "markdown",
   "metadata": {},
   "source": [
    "Cout de l'emprunt au bout de 10 ans :"
   ]
  },
  {
   "cell_type": "code",
   "execution_count": 7,
   "metadata": {},
   "outputs": [
    {
     "data": {
      "text/plain": [
       "interset        30834.60\n",
       "assur tot        6500.00\n",
       "refunded_cap    89002.37\n",
       "dtype: float64"
      ]
     },
     "execution_count": 7,
     "metadata": {},
     "output_type": "execute_result"
    }
   ],
   "source": [
    "loan.get_cost(10)"
   ]
  }
 ],
 "metadata": {
  "kernelspec": {
   "display_name": "Python 3",
   "language": "python",
   "name": "python3"
  },
  "language_info": {
   "codemirror_mode": {
    "name": "ipython",
    "version": 3
   },
   "file_extension": ".py",
   "mimetype": "text/x-python",
   "name": "python",
   "nbconvert_exporter": "python",
   "pygments_lexer": "ipython3",
   "version": "3.7.6"
  }
 },
 "nbformat": 4,
 "nbformat_minor": 4
}
